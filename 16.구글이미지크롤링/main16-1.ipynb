{
 "cells": [
  {
   "cell_type": "code",
   "execution_count": 13,
   "metadata": {},
   "outputs": [],
   "source": [
    "from selenium import webdriver\n",
    "from selenium.webdriver.chrome.service import Service as ChromeService\n",
    "from webdriver_manager.chrome import ChromeDriverManager\n",
    "\n",
    "driver = webdriver.Chrome(service=ChromeService(ChromeDriverManager().install()))\n",
    "\n",
    "URL = 'https://www.google.co.kr/imghp'\n",
    "driver.get(url=URL)\n",
    "\n",
    "driver.implicitly_wait(time_to_wait=10)"
   ]
  },
  {
   "cell_type": "code",
   "execution_count": 31,
   "metadata": {},
   "outputs": [
    {
     "ename": "ElementNotInteractableException",
     "evalue": "Message: element not interactable\n  (Session info: chrome=118.0.5993.117)\nStacktrace:\n0   chromedriver                        0x0000000104970510 chromedriver + 4310288\n1   chromedriver                        0x00000001049684bc chromedriver + 4277436\n2   chromedriver                        0x000000010459b9c4 chromedriver + 293316\n3   chromedriver                        0x00000001045db5ec chromedriver + 554476\n4   chromedriver                        0x00000001045da008 chromedriver + 548872\n5   chromedriver                        0x00000001045d6774 chromedriver + 534388\n6   chromedriver                        0x000000010461be60 chromedriver + 818784\n7   chromedriver                        0x00000001045d4fd0 chromedriver + 528336\n8   chromedriver                        0x00000001045d5e7c chromedriver + 532092\n9   chromedriver                        0x0000000104936834 chromedriver + 4073524\n10  chromedriver                        0x000000010493a7fc chromedriver + 4089852\n11  chromedriver                        0x000000010493ac58 chromedriver + 4090968\n12  chromedriver                        0x00000001049408f8 chromedriver + 4114680\n13  chromedriver                        0x000000010493b234 chromedriver + 4092468\n14  chromedriver                        0x0000000104915604 chromedriver + 3937796\n15  chromedriver                        0x0000000104957ee8 chromedriver + 4210408\n16  chromedriver                        0x0000000104958064 chromedriver + 4210788\n17  chromedriver                        0x0000000104968134 chromedriver + 4276532\n18  libsystem_pthread.dylib             0x00000001ac637fa8 _pthread_start + 148\n19  libsystem_pthread.dylib             0x00000001ac632da0 thread_start + 8\n",
     "output_type": "error",
     "traceback": [
      "\u001b[0;31m---------------------------------------------------------------------------\u001b[0m",
      "\u001b[0;31mElementNotInteractableException\u001b[0m           Traceback (most recent call last)",
      "\u001b[1;32m/Users/isaemmi/Desktop/pyProject/16.구글이미지크롤링/main16-1.ipynb 셀 2\u001b[0m line \u001b[0;36m1\n\u001b[1;32m      <a href='vscode-notebook-cell:/Users/isaemmi/Desktop/pyProject/16.%EA%B5%AC%EA%B8%80%EC%9D%B4%EB%AF%B8%EC%A7%80%ED%81%AC%EB%A1%A4%EB%A7%81/main16-1.ipynb#W1sZmlsZQ%3D%3D?line=7'>8</a>\u001b[0m elem \u001b[39m=\u001b[39m driver\u001b[39m.\u001b[39mfind_element(By\u001b[39m.\u001b[39mCLASS_NAME,\u001b[39m\"\u001b[39m\u001b[39mSDkEP\u001b[39m\u001b[39m\"\u001b[39m)\n\u001b[1;32m      <a href='vscode-notebook-cell:/Users/isaemmi/Desktop/pyProject/16.%EA%B5%AC%EA%B8%80%EC%9D%B4%EB%AF%B8%EC%A7%80%ED%81%AC%EB%A1%A4%EB%A7%81/main16-1.ipynb#W1sZmlsZQ%3D%3D?line=8'>9</a>\u001b[0m elem\u001b[39m.\u001b[39mclick()\n\u001b[0;32m---> <a href='vscode-notebook-cell:/Users/isaemmi/Desktop/pyProject/16.%EA%B5%AC%EA%B8%80%EC%9D%B4%EB%AF%B8%EC%A7%80%ED%81%AC%EB%A1%A4%EB%A7%81/main16-1.ipynb#W1sZmlsZQ%3D%3D?line=9'>10</a>\u001b[0m elem\u001b[39m.\u001b[39;49msend_keys(\u001b[39m\"\u001b[39;49m\u001b[39m바다\u001b[39;49m\u001b[39m\"\u001b[39;49m)\n\u001b[1;32m     <a href='vscode-notebook-cell:/Users/isaemmi/Desktop/pyProject/16.%EA%B5%AC%EA%B8%80%EC%9D%B4%EB%AF%B8%EC%A7%80%ED%81%AC%EB%A1%A4%EB%A7%81/main16-1.ipynb#W1sZmlsZQ%3D%3D?line=10'>11</a>\u001b[0m elem\u001b[39m.\u001b[39msend_keys(Keys\u001b[39m.\u001b[39mENTER)\n\u001b[1;32m     <a href='vscode-notebook-cell:/Users/isaemmi/Desktop/pyProject/16.%EA%B5%AC%EA%B8%80%EC%9D%B4%EB%AF%B8%EC%A7%80%ED%81%AC%EB%A1%A4%EB%A7%81/main16-1.ipynb#W1sZmlsZQ%3D%3D?line=11'>12</a>\u001b[0m driver\u001b[39m.\u001b[39mquit()\n",
      "File \u001b[0;32m~/miniconda3/lib/python3.10/site-packages/selenium/webdriver/remote/webelement.py:230\u001b[0m, in \u001b[0;36mWebElement.send_keys\u001b[0;34m(self, *value)\u001b[0m\n\u001b[1;32m    227\u001b[0m             remote_files\u001b[39m.\u001b[39mappend(\u001b[39mself\u001b[39m\u001b[39m.\u001b[39m_upload(file))\n\u001b[1;32m    228\u001b[0m         value \u001b[39m=\u001b[39m \u001b[39m\"\u001b[39m\u001b[39m\\n\u001b[39;00m\u001b[39m\"\u001b[39m\u001b[39m.\u001b[39mjoin(remote_files)\n\u001b[0;32m--> 230\u001b[0m \u001b[39mself\u001b[39;49m\u001b[39m.\u001b[39;49m_execute(\n\u001b[1;32m    231\u001b[0m     Command\u001b[39m.\u001b[39;49mSEND_KEYS_TO_ELEMENT, {\u001b[39m\"\u001b[39;49m\u001b[39mtext\u001b[39;49m\u001b[39m\"\u001b[39;49m: \u001b[39m\"\u001b[39;49m\u001b[39m\"\u001b[39;49m\u001b[39m.\u001b[39;49mjoin(keys_to_typing(value)), \u001b[39m\"\u001b[39;49m\u001b[39mvalue\u001b[39;49m\u001b[39m\"\u001b[39;49m: keys_to_typing(value)}\n\u001b[1;32m    232\u001b[0m )\n",
      "File \u001b[0;32m~/miniconda3/lib/python3.10/site-packages/selenium/webdriver/remote/webelement.py:394\u001b[0m, in \u001b[0;36mWebElement._execute\u001b[0;34m(self, command, params)\u001b[0m\n\u001b[1;32m    392\u001b[0m     params \u001b[39m=\u001b[39m {}\n\u001b[1;32m    393\u001b[0m params[\u001b[39m\"\u001b[39m\u001b[39mid\u001b[39m\u001b[39m\"\u001b[39m] \u001b[39m=\u001b[39m \u001b[39mself\u001b[39m\u001b[39m.\u001b[39m_id\n\u001b[0;32m--> 394\u001b[0m \u001b[39mreturn\u001b[39;00m \u001b[39mself\u001b[39;49m\u001b[39m.\u001b[39;49m_parent\u001b[39m.\u001b[39;49mexecute(command, params)\n",
      "File \u001b[0;32m~/miniconda3/lib/python3.10/site-packages/selenium/webdriver/remote/webdriver.py:344\u001b[0m, in \u001b[0;36mWebDriver.execute\u001b[0;34m(self, driver_command, params)\u001b[0m\n\u001b[1;32m    342\u001b[0m response \u001b[39m=\u001b[39m \u001b[39mself\u001b[39m\u001b[39m.\u001b[39mcommand_executor\u001b[39m.\u001b[39mexecute(driver_command, params)\n\u001b[1;32m    343\u001b[0m \u001b[39mif\u001b[39;00m response:\n\u001b[0;32m--> 344\u001b[0m     \u001b[39mself\u001b[39;49m\u001b[39m.\u001b[39;49merror_handler\u001b[39m.\u001b[39;49mcheck_response(response)\n\u001b[1;32m    345\u001b[0m     response[\u001b[39m\"\u001b[39m\u001b[39mvalue\u001b[39m\u001b[39m\"\u001b[39m] \u001b[39m=\u001b[39m \u001b[39mself\u001b[39m\u001b[39m.\u001b[39m_unwrap_value(response\u001b[39m.\u001b[39mget(\u001b[39m\"\u001b[39m\u001b[39mvalue\u001b[39m\u001b[39m\"\u001b[39m, \u001b[39mNone\u001b[39;00m))\n\u001b[1;32m    346\u001b[0m     \u001b[39mreturn\u001b[39;00m response\n",
      "File \u001b[0;32m~/miniconda3/lib/python3.10/site-packages/selenium/webdriver/remote/errorhandler.py:229\u001b[0m, in \u001b[0;36mErrorHandler.check_response\u001b[0;34m(self, response)\u001b[0m\n\u001b[1;32m    227\u001b[0m         alert_text \u001b[39m=\u001b[39m value[\u001b[39m\"\u001b[39m\u001b[39malert\u001b[39m\u001b[39m\"\u001b[39m]\u001b[39m.\u001b[39mget(\u001b[39m\"\u001b[39m\u001b[39mtext\u001b[39m\u001b[39m\"\u001b[39m)\n\u001b[1;32m    228\u001b[0m     \u001b[39mraise\u001b[39;00m exception_class(message, screen, stacktrace, alert_text)  \u001b[39m# type: ignore[call-arg]  # mypy is not smart enough here\u001b[39;00m\n\u001b[0;32m--> 229\u001b[0m \u001b[39mraise\u001b[39;00m exception_class(message, screen, stacktrace)\n",
      "\u001b[0;31mElementNotInteractableException\u001b[0m: Message: element not interactable\n  (Session info: chrome=118.0.5993.117)\nStacktrace:\n0   chromedriver                        0x0000000104970510 chromedriver + 4310288\n1   chromedriver                        0x00000001049684bc chromedriver + 4277436\n2   chromedriver                        0x000000010459b9c4 chromedriver + 293316\n3   chromedriver                        0x00000001045db5ec chromedriver + 554476\n4   chromedriver                        0x00000001045da008 chromedriver + 548872\n5   chromedriver                        0x00000001045d6774 chromedriver + 534388\n6   chromedriver                        0x000000010461be60 chromedriver + 818784\n7   chromedriver                        0x00000001045d4fd0 chromedriver + 528336\n8   chromedriver                        0x00000001045d5e7c chromedriver + 532092\n9   chromedriver                        0x0000000104936834 chromedriver + 4073524\n10  chromedriver                        0x000000010493a7fc chromedriver + 4089852\n11  chromedriver                        0x000000010493ac58 chromedriver + 4090968\n12  chromedriver                        0x00000001049408f8 chromedriver + 4114680\n13  chromedriver                        0x000000010493b234 chromedriver + 4092468\n14  chromedriver                        0x0000000104915604 chromedriver + 3937796\n15  chromedriver                        0x0000000104957ee8 chromedriver + 4210408\n16  chromedriver                        0x0000000104958064 chromedriver + 4210788\n17  chromedriver                        0x0000000104968134 chromedriver + 4276532\n18  libsystem_pthread.dylib             0x00000001ac637fa8 _pthread_start + 148\n19  libsystem_pthread.dylib             0x00000001ac632da0 thread_start + 8\n"
     ]
    }
   ],
   "source": [
    "from selenium import webdriver\n",
    "from selenium.webdriver.common.keys import Keys\n",
    "from selenium.webdriver.common.by import By\n",
    "import subprocess\n",
    "\n",
    "driver = webdriver.Chrome()\n",
    "driver.get(\"https://google.com\")\n",
    "elem = driver.find_element(By.CLASS_NAME,\"SDkEP\")\n",
    "elem.click()\n",
    "elem.send_keys(\"바다\")\n",
    "elem.send_keys(Keys.ENTER)\n",
    "driver.quit()"
   ]
  },
  {
   "cell_type": "markdown",
   "metadata": {},
   "source": []
  }
 ],
 "metadata": {
  "kernelspec": {
   "display_name": "Python 3",
   "language": "python",
   "name": "python3"
  },
  "language_info": {
   "codemirror_mode": {
    "name": "ipython",
    "version": 3
   },
   "file_extension": ".py",
   "mimetype": "text/x-python",
   "name": "python",
   "nbconvert_exporter": "python",
   "pygments_lexer": "ipython3",
   "version": "3.10.9"
  }
 },
 "nbformat": 4,
 "nbformat_minor": 2
}
